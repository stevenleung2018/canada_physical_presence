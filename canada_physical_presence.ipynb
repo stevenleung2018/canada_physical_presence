{
 "cells": [
  {
   "cell_type": "code",
   "execution_count": 7,
   "metadata": {},
   "outputs": [],
   "source": [
    "from datetime import datetime, timedelta\n",
    "\n",
    "def calculate_physical_presence(temp_status_dates, pr_start_date, overseas_trips, as_of_date=None):\n",
    "    total_days_temp = 0\n",
    "    total_days_pr = 0\n",
    "    \n",
    "    # Calculate days for temporary resident status\n",
    "    for start, end in temp_status_dates:\n",
    "        start_date = datetime.strptime(start, \"%Y-%m-%d\")\n",
    "        end_date = datetime.strptime(end, \"%Y-%m-%d\")\n",
    "        total_days_temp += (end_date - start_date).days + 1\n",
    "    \n",
    "    # Calculate days for permanent resident status\n",
    "    pr_start_date = datetime.strptime(pr_start_date, \"%Y-%m-%d\")\n",
    "    if as_of_date:\n",
    "        today = datetime.strptime(as_of_date, \"%Y-%m-%d\")\n",
    "    else:\n",
    "        today = datetime.today()\n",
    "    total_days_pr = (today - pr_start_date).days + 1\n",
    "    \n",
    "    # Subtract days spent overseas from total days\n",
    "    for start, end in overseas_trips:\n",
    "        start_date = datetime.strptime(start, \"%Y-%m-%d\")\n",
    "        end_date = datetime.strptime(end, \"%Y-%m-%d\")\n",
    "        days_overseas = (end_date - start_date).days - 1\n",
    "        if start_date >= pr_start_date:\n",
    "            total_days_pr -= days_overseas\n",
    "        else:\n",
    "            total_days_temp -= days_overseas\n",
    "    \n",
    "    # Calculate the earliest date to qualify for citizenship\n",
    "    required_days = 1095\n",
    "    half_days_temp = min(total_days_temp // 2, 365)  # Ensure temporary residence can only qualify up to 365 days after dividing by half\n",
    "    total_physical_presence = half_days_temp + total_days_pr\n",
    "    \n",
    "    if total_physical_presence >= required_days:\n",
    "        earliest_qualification_date = pr_start_date\n",
    "    else:\n",
    "        remaining_days = required_days - total_physical_presence\n",
    "        earliest_qualification_date = today + timedelta(days=remaining_days)\n",
    "    \n",
    "    return total_days_temp, total_days_pr, total_physical_presence, earliest_qualification_date\n",
    "\n"
   ]
  },
  {
   "cell_type": "code",
   "execution_count": 8,
   "metadata": {},
   "outputs": [],
   "source": [
    "# Example usage\n",
    "temp_status_dates = [(\"2021-07-06\", \"2022-09-30\"), (\"2022-12-01\", \"2023-02-13\")]\n",
    "pr_start_date = \"2023-02-14\"\n",
    "overseas_trips = [(\"2024-12-07\", \"2024-12-21\")]\n",
    "\n"
   ]
  },
  {
   "cell_type": "code",
   "execution_count": 9,
   "metadata": {},
   "outputs": [
    {
     "name": "stdout",
     "output_type": "stream",
     "text": [
      "Total days in Canada as a temporary resident: 527\n",
      "Total days in Canada as a permanent resident: 691\n",
      "Total physical presence: 954\n",
      "Earliest date to qualify for citizenship: 2025-06-07\n"
     ]
    }
   ],
   "source": [
    "total_days_temp, total_days_pr, total_physical_presence, earliest_qualification_date = calculate_physical_presence(temp_status_dates, pr_start_date, overseas_trips)\n",
    "print(\"Total days in Canada as a temporary resident:\", total_days_temp)\n",
    "print(\"Total days in Canada as a permanent resident:\", total_days_pr)\n",
    "print(\"Total physical presence:\", total_physical_presence)\n",
    "print(\"Earliest date to qualify for citizenship:\", earliest_qualification_date.strftime(\"%Y-%m-%d\"))"
   ]
  }
 ],
 "metadata": {
  "kernelspec": {
   "display_name": "canada_physical_presence",
   "language": "python",
   "name": "python3"
  },
  "language_info": {
   "codemirror_mode": {
    "name": "ipython",
    "version": 3
   },
   "file_extension": ".py",
   "mimetype": "text/x-python",
   "name": "python",
   "nbconvert_exporter": "python",
   "pygments_lexer": "ipython3",
   "version": "3.11.10"
  }
 },
 "nbformat": 4,
 "nbformat_minor": 2
}
